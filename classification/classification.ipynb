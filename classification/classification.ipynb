{
 "cells": [
  {
   "cell_type": "code",
   "execution_count": 1,
   "id": "07f7aa33-df94-4f2a-a86e-f8fdf8ff3bd7",
   "metadata": {
    "tags": []
   },
   "outputs": [],
   "source": [
    "import math\n",
    "import numpy as np\n",
    "import pandas as pd\n",
    "import random\n",
    "from matplotlib import pyplot as plt\n",
    "from typing import Callable"
   ]
  },
  {
   "cell_type": "markdown",
   "id": "38b4f5cc-2821-4482-9fe9-e2ee677da1e3",
   "metadata": {},
   "source": [
    "# Notebook Conventions\n",
    "\n",
    "```\n",
    "m: number of weights\n",
    "n: number of examples\n",
    "\n",
    "Matrix rows: examples\n",
    "Matrix columns: datapoint\n",
    "```"
   ]
  },
  {
   "cell_type": "code",
   "execution_count": 81,
   "id": "d9733178-b650-4158-8876-84f047c349ab",
   "metadata": {
    "jupyter": {
     "source_hidden": true
    },
    "tags": []
   },
   "outputs": [],
   "source": [
    "def grid_dims(grid_n: int):\n",
    "    w = True\n",
    "    grid_w = grid_h = math.floor(math.sqrt(grid_n))\n",
    "    \n",
    "    while (grid_w * grid_h) < grid_n:\n",
    "        if w: grid_w += 1\n",
    "        else: grid_h += 1\n",
    "        w = not w\n",
    "    \n",
    "    return grid_h, grid_w\n",
    "\n",
    "def plot_images(x: np.array, y: np.array, y_hat: np.array=None, img_w: int=None, img_h: int=None, grid_n: int=9):\n",
    "    '''\n",
    "    Plots a grid of images\n",
    "    '''\n",
    "    \n",
    "    n, m = x.shape\n",
    "    if grid_n > n: raise ValueError\n",
    "    if not img_w or not img_h: img_w = img_h = math.floor(math.sqrt(m))\n",
    "    \n",
    "    grid_h, grid_w = grid_dims(grid_n)\n",
    "    \n",
    "    fig, axs = plt.subplots(grid_h, grid_w)\n",
    "    fig.patch.set_facecolor((0.9, 0.9, 0.9))\n",
    "    axs = axs.reshape(grid_h, grid_w)\n",
    "    \n",
    "    sample_imgs = random.sample(range(n), grid_n)\n",
    "    \n",
    "    for i in range(grid_w):\n",
    "        for j in range(grid_h):\n",
    "            axs[j, i].axis('off')\n",
    "    \n",
    "    for i, j in enumerate(random.sample(range(n), grid_n)):\n",
    "        ax = axs[i//grid_w, i%grid_w]\n",
    "        img = x[j].reshape(img_w, img_h)\n",
    "        \n",
    "        ax.imshow(img, cmap='Greys',  interpolation='nearest')\n",
    "        ax.set_title(f'{y[j]}, {y_hat[j] if y_hat is not None else \"\"}')\n",
    "    \n",
    "    plt.tight_layout()"
   ]
  },
  {
   "cell_type": "code",
   "execution_count": 77,
   "id": "0cc61798-78d1-4b70-98fc-69d311e53135",
   "metadata": {
    "jupyter": {
     "source_hidden": true
    },
    "tags": []
   },
   "outputs": [],
   "source": [
    "data = np.load('../mnist.npz')"
   ]
  },
  {
   "cell_type": "code",
   "execution_count": 119,
   "id": "2c200da3-b781-4256-9a81-14833725ccfa",
   "metadata": {
    "tags": []
   },
   "outputs": [
    {
     "name": "stdout",
     "output_type": "stream",
     "text": [
      "MNIST\n",
      "\n",
      "x_train_raw:\t(60000, 28, 28)\n",
      "y_train:\t(60000,)\n",
      "x_test_raw:\t(10000, 28, 28)\n",
      "y_test:\t\t(10000,)\n",
      "\n",
      "all_train_n:\t60000\n",
      "all_test_n:\t10000\n",
      "img:\t\t28x28\n"
     ]
    }
   ],
   "source": [
    "x_train_raw = data['x_train']\n",
    "y_train = data['y_train']\n",
    "x_test_raw = data['x_test']\n",
    "y_test = data['y_test']\n",
    "\n",
    "all_train_n, img_w, img_h = x_train_raw.shape\n",
    "all_test_n, img_w, img_h = x_test_raw.shape\n",
    "\n",
    "print(f'MNIST')\n",
    "print()\n",
    "print(f'x_train_raw:\\t{x_train_raw.shape}')\n",
    "print(f'y_train:\\t{y_train.shape}')\n",
    "print(f'x_test_raw:\\t{x_test_raw.shape}')\n",
    "print(f'y_test:\\t\\t{y_test.shape}')\n",
    "print()\n",
    "print(f'all_train_n:\\t{all_train_n}')\n",
    "print(f'all_test_n:\\t{all_test_n}')\n",
    "print(f'img:\\t\\t{img_w}x{img_h}')"
   ]
  },
  {
   "cell_type": "markdown",
   "id": "5ba7880f-73d0-4f23-ae49-31289eeb18cf",
   "metadata": {},
   "source": [
    "# Binary Classification"
   ]
  },
  {
   "cell_type": "code",
   "execution_count": 123,
   "id": "1edd1cbb-4161-431a-85f1-77b97295296e",
   "metadata": {
    "tags": []
   },
   "outputs": [
    {
     "name": "stdout",
     "output_type": "stream",
     "text": [
      "(60000, 784)\n"
     ]
    },
    {
     "ename": "IndexError",
     "evalue": "boolean index did not match indexed array along dimension 1; dimension is 784 but corresponding boolean dimension is 1",
     "output_type": "error",
     "traceback": [
      "\u001b[0;31m---------------------------------------------------------------------------\u001b[0m",
      "\u001b[0;31mIndexError\u001b[0m                                Traceback (most recent call last)",
      "Cell \u001b[0;32mIn[123], line 10\u001b[0m\n\u001b[1;32m      8\u001b[0m zeros_ones_train \u001b[38;5;241m=\u001b[39m np\u001b[38;5;241m.\u001b[39misin(y_train, (\u001b[38;5;241m0\u001b[39m, \u001b[38;5;241m1\u001b[39m))\n\u001b[1;32m      9\u001b[0m \u001b[38;5;28mprint\u001b[39m(x_train\u001b[38;5;241m.\u001b[39mshape)\n\u001b[0;32m---> 10\u001b[0m x_train \u001b[38;5;241m=\u001b[39m \u001b[43mx_train\u001b[49m\u001b[43m[\u001b[49m\u001b[43mzeros_ones_train\u001b[49m\u001b[43m]\u001b[49m\n\u001b[1;32m     11\u001b[0m y_train \u001b[38;5;241m=\u001b[39m y_train[zeros_ones_train]\n\u001b[1;32m     13\u001b[0m \u001b[38;5;66;03m# Clean test data\u001b[39;00m\n",
      "\u001b[0;31mIndexError\u001b[0m: boolean index did not match indexed array along dimension 1; dimension is 784 but corresponding boolean dimension is 1"
     ]
    }
   ],
   "source": [
    "# Clean train data\n",
    "\n",
    "x_train = x_train_raw/255\n",
    "x_train = x_train.reshape(all_train_n, img_w * img_h)\n",
    "\n",
    "y_train = y_train.reshape(all_train_n, 1)\n",
    "\n",
    "zeros_ones_train = np.isin(y_train, (0, 1))\n",
    "print(x_train.shape)\n",
    "x_train = x_train[zeros_ones_train]\n",
    "y_train = y_train[zeros_ones_train]\n",
    "\n",
    "# Clean test data\n",
    "\n",
    "x_test = x_test_raw/255\n",
    "x_test = x_test.reshape(all_test_n, img_w * img_h)\n",
    "\n",
    "y_test = y_test.reshape(all_test_n, 1)\n",
    "\n",
    "zeros_ones_test = np.isin(y_test, (0, 1))\n",
    "\n",
    "x_test = x_test[zeros_ones_test]\n",
    "y_test = y_test[zeros_ones_test]\n",
    "\n",
    "# Print data summary\n",
    "\n",
    "train_n, m = x_train.shape\n",
    "test_n, m = x_test.shape\n",
    "\n",
    "print(f'MNIST (0, 1)')\n",
    "print()\n",
    "print(f'x_train:\\t{x_train.shape}')\n",
    "print(f'y_train:\\t{y_train.shape}')\n",
    "print(f'x_test:\\t\\t{x_test.shape}')\n",
    "print(f'y_test:\\t\\t{y_test.shape}')\n",
    "print()\n",
    "print(f'train_n:\\t{train_n}')\n",
    "print(f'test_n:\\t\\t{test_n}')\n",
    "print()\n",
    "print(f'img:\\t\\t{img_w}x{img_h} = {m}')\n",
    "\n",
    "plot_images(x=x_train, y=y_train)"
   ]
  },
  {
   "cell_type": "markdown",
   "id": "c84251ad-a7b3-4845-9168-8f0f7293b5e7",
   "metadata": {},
   "source": [
    "## Implementation 1"
   ]
  },
  {
   "cell_type": "code",
   "execution_count": 86,
   "id": "f720d8aa-d9b8-4051-8ed2-56b68338c6b2",
   "metadata": {},
   "outputs": [],
   "source": [
    "class Sigmoid:\n",
    "    def activation(x: np.array):\n",
    "        return np.reciprocal(1 + np.exp(-x))\n",
    "    \n",
    "    def interpret(y: np.array):\n",
    "        return (y > 0.5).astype(int)"
   ]
  },
  {
   "cell_type": "code",
   "execution_count": 87,
   "id": "187f18a1-9509-431f-b6c0-d002f5f4cfb4",
   "metadata": {
    "tags": []
   },
   "outputs": [],
   "source": [
    "class BCE:\n",
    "    def loss(y_hat: np.array, y: np.array):\n",
    "        m, *_ = y_hat.shape\n",
    "        return -(np.dot(y, np.log(y_hat)) + np.dot(1-y, np.log(1-y_hat)))/m\n",
    "    \n",
    "    def grad_w(x:np.array, y_hat: np.array, y: np.array, **kwargs):\n",
    "        m, *_ = y_hat.shape\n",
    "        return np.matmul(x, y_hat - y)/m\n",
    "    \n",
    "    def grad_b(y_hat:np.array, y:np.array, **kwargs):\n",
    "        m, *_ = y_hat.shape\n",
    "        return np.sum(y_hat - y)/m"
   ]
  },
  {
   "cell_type": "code",
   "execution_count": 111,
   "id": "325975f2-0e2a-46c3-a4ac-26bc59d3ff17",
   "metadata": {
    "tags": []
   },
   "outputs": [],
   "source": [
    "class Dense:\n",
    "    a = 0.1\n",
    "    \n",
    "    def __init__(self, i: int, o: int, activation) -> None:\n",
    "        if i < 1 or o < 1: raise ValueError\n",
    "        \n",
    "        self.m = i\n",
    "        \n",
    "        self.w = np.zeros((i, o))\n",
    "        self.b = np.zeros(o)\n",
    "\n",
    "        self.activation = activation.activation\n",
    "        self.interpret = activation.interpret\n",
    "\n",
    "    def forward(self, x: np.array, interpret: bool=False):\n",
    "        y = self.activation(np.matmul(x, self.w) + self.b)\n",
    "        \n",
    "        print(f'Forward: {x.shape} * {self.w.shape} + {self.b.shape} = {y.shape}')\n",
    "        \n",
    "        if interpret: \n",
    "            return self.interpret(y)\n",
    "        \n",
    "        return y\n",
    "    \n",
    "    def backward(self, x: np.array, y: np.array, loss):\n",
    "        y_hat = self.forward(x)\n",
    "        \n",
    "        grad_w = loss.grad_w(x=x, y_hat=y_hat, y=y)\n",
    "        grad_b = loss.grad_b(y_hat=y_hat, y=y)\n",
    "        \n",
    "        self.w -= self.a * grad_w\n",
    "        self.b -= self.a * grad_b\n",
    "        \n",
    "        return loss.loss(y_hat=y_hat, y=y)\n",
    "    \n",
    "    def error(self, x: np.array, y: np.array):\n",
    "        m = y.shape\n",
    "        \n",
    "        y_hat = self.forward(x=x, interpret=True)\n",
    "\n",
    "        return float(abs(np.sum(y - y_hat)/m))\n",
    "    \n",
    "    def __str__(self):\n",
    "        return f'Dense[{self.m}]'"
   ]
  },
  {
   "cell_type": "code",
   "execution_count": 112,
   "id": "462ac329-d8f5-4244-8e3d-f86b6b93a0cd",
   "metadata": {
    "tags": []
   },
   "outputs": [],
   "source": [
    "class NN:\n",
    "    def __init__(self, *args):\n",
    "        self.layers = args\n",
    "    \n",
    "    def forward(self, x: np.array, interpret: bool=False):\n",
    "        y = x\n",
    "        for layer in self.layers:\n",
    "            y = layer.forward(y)\n",
    "        return y\n",
    "    \n",
    "    def __str__(self):\n",
    "        return '  ->  '.join(['x'] + [str(layer) for layer in self.layers] + ['y'])\n",
    "    \n",
    "    def __getitem__(self, key: int):\n",
    "        return self.layers[key]"
   ]
  },
  {
   "cell_type": "markdown",
   "id": "cd801166-9ff6-4415-9916-02a142f8ca29",
   "metadata": {},
   "source": [
    "## One Layer"
   ]
  },
  {
   "cell_type": "markdown",
   "id": "2aa89e56-94bd-4884-90ee-cb4e99662252",
   "metadata": {
    "tags": []
   },
   "source": [
    "#### Train"
   ]
  },
  {
   "cell_type": "code",
   "execution_count": 113,
   "id": "bc797dde-a4e8-4fca-9414-6f826f265d07",
   "metadata": {
    "tags": []
   },
   "outputs": [
    {
     "name": "stdout",
     "output_type": "stream",
     "text": [
      "weights: (784, 1)\n",
      "Forward: (2115, 784) * (784, 1) + (1,) = (2115, 1)\n",
      "error: 1135.0\n",
      "Forward: (2115, 784) * (784, 1) + (1,) = (2115, 1)\n"
     ]
    },
    {
     "data": {
      "image/png": "[encoded data removed]",
      "text/plain": [
       "<Figure size 640x480 with 20 Axes>"
      ]
     },
     "metadata": {},
     "output_type": "display_data"
    }
   ],
   "source": [
    "dense = Dense(i=m, o=1, activation=Sigmoid)\n",
    "\n",
    "print(f'weights: {dense.w.shape}')\n",
    "print(f'error: {dense.error(x=x_test, y=y_test)}')\n",
    "\n",
    "y_hat = dense.forward(x_test, interpret=True)\n",
    "plot_images(x=x_test, y=y_test, y_hat=y_hat, grid_n=20)"
   ]
  },
  {
   "cell_type": "code",
   "execution_count": 95,
   "id": "b6d831b1-5090-4e7c-879a-7a25dcb191ea",
   "metadata": {
    "jupyter": {
     "source_hidden": true
    },
    "tags": []
   },
   "outputs": [
    {
     "ename": "ValueError",
     "evalue": "matmul: Input operand 1 has a mismatch in its core dimension 0, with gufunc signature (n?,k),(k,m?)->(n?,m?) (size 12665 is different from 784)",
     "output_type": "error",
     "traceback": [
      "\u001b[0;31m---------------------------------------------------------------------------\u001b[0m",
      "\u001b[0;31mValueError\u001b[0m                                Traceback (most recent call last)",
      "Cell \u001b[0;32mIn[95], line 3\u001b[0m\n\u001b[1;32m      1\u001b[0m epochs \u001b[38;5;241m=\u001b[39m \u001b[38;5;241m200\u001b[39m\n\u001b[0;32m----> 3\u001b[0m loss \u001b[38;5;241m=\u001b[39m [dense\u001b[38;5;241m.\u001b[39mbackward(x\u001b[38;5;241m=\u001b[39mx_train, y\u001b[38;5;241m=\u001b[39my_train, loss\u001b[38;5;241m=\u001b[39mBCE) \u001b[38;5;28;01mfor\u001b[39;00m i \u001b[38;5;129;01min\u001b[39;00m \u001b[38;5;28mrange\u001b[39m(epochs)]\n\u001b[1;32m      5\u001b[0m plt\u001b[38;5;241m.\u001b[39mplot(\u001b[38;5;28mrange\u001b[39m(epochs), loss)\n\u001b[1;32m      6\u001b[0m plt\u001b[38;5;241m.\u001b[39mtitle(\u001b[38;5;124m\"\u001b[39m\u001b[38;5;124mTraining\u001b[39m\u001b[38;5;124m\"\u001b[39m)\n",
      "Cell \u001b[0;32mIn[95], line 3\u001b[0m, in \u001b[0;36m<listcomp>\u001b[0;34m(.0)\u001b[0m\n\u001b[1;32m      1\u001b[0m epochs \u001b[38;5;241m=\u001b[39m \u001b[38;5;241m200\u001b[39m\n\u001b[0;32m----> 3\u001b[0m loss \u001b[38;5;241m=\u001b[39m [\u001b[43mdense\u001b[49m\u001b[38;5;241;43m.\u001b[39;49m\u001b[43mbackward\u001b[49m\u001b[43m(\u001b[49m\u001b[43mx\u001b[49m\u001b[38;5;241;43m=\u001b[39;49m\u001b[43mx_train\u001b[49m\u001b[43m,\u001b[49m\u001b[43m \u001b[49m\u001b[43my\u001b[49m\u001b[38;5;241;43m=\u001b[39;49m\u001b[43my_train\u001b[49m\u001b[43m,\u001b[49m\u001b[43m \u001b[49m\u001b[43mloss\u001b[49m\u001b[38;5;241;43m=\u001b[39;49m\u001b[43mBCE\u001b[49m\u001b[43m)\u001b[49m \u001b[38;5;28;01mfor\u001b[39;00m i \u001b[38;5;129;01min\u001b[39;00m \u001b[38;5;28mrange\u001b[39m(epochs)]\n\u001b[1;32m      5\u001b[0m plt\u001b[38;5;241m.\u001b[39mplot(\u001b[38;5;28mrange\u001b[39m(epochs), loss)\n\u001b[1;32m      6\u001b[0m plt\u001b[38;5;241m.\u001b[39mtitle(\u001b[38;5;124m\"\u001b[39m\u001b[38;5;124mTraining\u001b[39m\u001b[38;5;124m\"\u001b[39m)\n",
      "Cell \u001b[0;32mIn[91], line 25\u001b[0m, in \u001b[0;36mDense.backward\u001b[0;34m(self, x, y, loss)\u001b[0m\n\u001b[1;32m     22\u001b[0m \u001b[38;5;28;01mdef\u001b[39;00m \u001b[38;5;21mbackward\u001b[39m(\u001b[38;5;28mself\u001b[39m, x: np\u001b[38;5;241m.\u001b[39marray, y: np\u001b[38;5;241m.\u001b[39marray, loss):\n\u001b[1;32m     23\u001b[0m     y_hat \u001b[38;5;241m=\u001b[39m \u001b[38;5;28mself\u001b[39m\u001b[38;5;241m.\u001b[39mforward(x)\n\u001b[0;32m---> 25\u001b[0m     grad_w \u001b[38;5;241m=\u001b[39m \u001b[43mloss\u001b[49m\u001b[38;5;241;43m.\u001b[39;49m\u001b[43mgrad_w\u001b[49m\u001b[43m(\u001b[49m\u001b[43mx\u001b[49m\u001b[38;5;241;43m=\u001b[39;49m\u001b[43mx\u001b[49m\u001b[43m,\u001b[49m\u001b[43m \u001b[49m\u001b[43my_hat\u001b[49m\u001b[38;5;241;43m=\u001b[39;49m\u001b[43my_hat\u001b[49m\u001b[43m,\u001b[49m\u001b[43m \u001b[49m\u001b[43my\u001b[49m\u001b[38;5;241;43m=\u001b[39;49m\u001b[43my\u001b[49m\u001b[43m)\u001b[49m\n\u001b[1;32m     26\u001b[0m     grad_b \u001b[38;5;241m=\u001b[39m loss\u001b[38;5;241m.\u001b[39mgrad_b(y_hat\u001b[38;5;241m=\u001b[39my_hat, y\u001b[38;5;241m=\u001b[39my)\n\u001b[1;32m     28\u001b[0m     \u001b[38;5;28mself\u001b[39m\u001b[38;5;241m.\u001b[39mw \u001b[38;5;241m-\u001b[39m\u001b[38;5;241m=\u001b[39m \u001b[38;5;28mself\u001b[39m\u001b[38;5;241m.\u001b[39ma \u001b[38;5;241m*\u001b[39m grad_w\n",
      "Cell \u001b[0;32mIn[87], line 8\u001b[0m, in \u001b[0;36mBCE.grad_w\u001b[0;34m(x, y_hat, y, **kwargs)\u001b[0m\n\u001b[1;32m      6\u001b[0m \u001b[38;5;28;01mdef\u001b[39;00m \u001b[38;5;21mgrad_w\u001b[39m(x:np\u001b[38;5;241m.\u001b[39marray, y_hat: np\u001b[38;5;241m.\u001b[39marray, y: np\u001b[38;5;241m.\u001b[39marray, \u001b[38;5;241m*\u001b[39m\u001b[38;5;241m*\u001b[39mkwargs):\n\u001b[1;32m      7\u001b[0m     m, \u001b[38;5;241m*\u001b[39m_ \u001b[38;5;241m=\u001b[39m y_hat\u001b[38;5;241m.\u001b[39mshape\n\u001b[0;32m----> 8\u001b[0m     \u001b[38;5;28;01mreturn\u001b[39;00m \u001b[43mnp\u001b[49m\u001b[38;5;241;43m.\u001b[39;49m\u001b[43mmatmul\u001b[49m\u001b[43m(\u001b[49m\u001b[43mx\u001b[49m\u001b[43m,\u001b[49m\u001b[43m \u001b[49m\u001b[43my_hat\u001b[49m\u001b[43m \u001b[49m\u001b[38;5;241;43m-\u001b[39;49m\u001b[43m \u001b[49m\u001b[43my\u001b[49m\u001b[43m)\u001b[49m\u001b[38;5;241m/\u001b[39mm\n",
      "\u001b[0;31mValueError\u001b[0m: matmul: Input operand 1 has a mismatch in its core dimension 0, with gufunc signature (n?,k),(k,m?)->(n?,m?) (size 12665 is different from 784)"
     ]
    }
   ],
   "source": [
    "epochs = 200\n",
    "\n",
    "loss = [dense.backward(x=x_train, y=y_train, loss=BCE) for i in range(epochs)]\n",
    "\n",
    "plt.plot(range(epochs), loss)\n",
    "plt.title(\"Training\")\n",
    "plt.xlabel(\"Epochs\")\n",
    "plt.ylabel(\"Loss\")"
   ]
  },
  {
   "cell_type": "code",
   "execution_count": 11,
   "id": "5e380a1f-6c6e-4889-8e67-7e761e475e6a",
   "metadata": {
    "collapsed": true,
    "jupyter": {
     "outputs_hidden": true,
     "source_hidden": true
    },
    "tags": []
   },
   "outputs": [
    {
     "data": {
      "text/plain": [
       "Text(0.5, 1.0, 'Weight Grid')"
      ]
     },
     "execution_count": 11,
     "metadata": {},
     "output_type": "execute_result"
    },
    {
     "data": {
      "image/png": "[encoded data removed]",
      "text/plain": [
       "<Figure size 640x480 with 1 Axes>"
      ]
     },
     "metadata": {},
     "output_type": "display_data"
    }
   ],
   "source": [
    "plt.imshow(dense.w.reshape(28, 28), cmap='Greys',  interpolation='nearest')\n",
    "plt.title(\"Weight Grid\")"
   ]
  },
  {
   "cell_type": "markdown",
   "id": "30aa0840-afe4-410b-862c-2b10407cbed9",
   "metadata": {},
   "source": [
    "#### Testing"
   ]
  },
  {
   "cell_type": "code",
   "execution_count": 15,
   "id": "e836755c-60d4-48e9-a16d-cddfbbb4a370",
   "metadata": {
    "jupyter": {
     "source_hidden": true
    },
    "tags": []
   },
   "outputs": [
    {
     "name": "stdout",
     "output_type": "stream",
     "text": [
      "error: 0.0009456264775413711\n"
     ]
    },
    {
     "data": {
      "image/png": "[encoded data removed]",
      "text/plain": [
       "<Figure size 640x480 with 20 Axes>"
      ]
     },
     "metadata": {},
     "output_type": "display_data"
    }
   ],
   "source": [
    "print(f'error: {dense.error(x=x_test, y=y_test)}')\n",
    "\n",
    "y_hat = dense.forward(x=x_test, interpret=True)\n",
    "plot_images(x=x_test, y=y_test, y_hat=y_hat, grid_n=20)"
   ]
  },
  {
   "cell_type": "code",
   "execution_count": 13,
   "id": "891d4eec-57ee-46a4-9363-8a934843187c",
   "metadata": {
    "collapsed": true,
    "jupyter": {
     "outputs_hidden": true,
     "source_hidden": true
    },
    "tags": []
   },
   "outputs": [
    {
     "data": {
      "image/png": "[encoded data removed]",
      "text/plain": [
       "<Figure size 640x480 with 2 Axes>"
      ]
     },
     "metadata": {},
     "output_type": "display_data"
    }
   ],
   "source": [
    "wrong_i = [i for i in range(test_n) if y_test[i] != y_hat[i]]\n",
    "\n",
    "wrong_x = x_test[:, wrong_i]\n",
    "wrong_y = y_test[wrong_i]\n",
    "\n",
    "wrong_n,  = wrong_y.shape\n",
    "\n",
    "plot_images(x=wrong_x, y=wrong_y, grid_n = wrong_n)"
   ]
  },
  {
   "cell_type": "markdown",
   "id": "23b19faa-f200-4a04-8af2-7bd96e832f86",
   "metadata": {},
   "source": [
    "## Two Layer"
   ]
  },
  {
   "cell_type": "markdown",
   "id": "bcbc12f2-3186-4c03-8968-3237a2d396b2",
   "metadata": {},
   "source": [
    "#### Train"
   ]
  },
  {
   "cell_type": "code",
   "execution_count": 62,
   "id": "fa7b732a-c1ac-4a90-9c52-9dd48ce0eaf9",
   "metadata": {
    "tags": []
   },
   "outputs": [
    {
     "name": "stdout",
     "output_type": "stream",
     "text": [
      "x  ->  Dense[784]  ->  Dense[10]  ->  y\n"
     ]
    },
    {
     "data": {
      "text/plain": [
       "(10, 784)"
      ]
     },
     "execution_count": 62,
     "metadata": {},
     "output_type": "execute_result"
    }
   ],
   "source": [
    "m_1, m_2 = m, 10\n",
    "\n",
    "nn = NN(\n",
    "    Dense(i=m_1, o=m_2, activation=Sigmoid), \n",
    "    Dense(i=m_2, o=1, activation=Sigmoid)\n",
    ")\n",
    "\n",
    "print(nn)\n",
    "\n",
    "nn[0].w.shape\n"
   ]
  },
  {
   "cell_type": "code",
   "execution_count": 55,
   "id": "e5fed8fb-e354-4e38-a893-d3087570df13",
   "metadata": {
    "tags": []
   },
   "outputs": [
    {
     "ename": "ValueError",
     "evalue": "operands could not be broadcast together with shapes (10,12665) (10,) ",
     "output_type": "error",
     "traceback": [
      "\u001b[0;31m---------------------------------------------------------------------------\u001b[0m",
      "\u001b[0;31mValueError\u001b[0m                                Traceback (most recent call last)",
      "Cell \u001b[0;32mIn[55], line 1\u001b[0m\n\u001b[0;32m----> 1\u001b[0m \u001b[43mnn\u001b[49m\u001b[38;5;241;43m.\u001b[39;49m\u001b[43mforward\u001b[49m\u001b[43m(\u001b[49m\u001b[43mx_train\u001b[49m\u001b[43m)\u001b[49m\n",
      "Cell \u001b[0;32mIn[52], line 8\u001b[0m, in \u001b[0;36mNN.forward\u001b[0;34m(self, x, interpret)\u001b[0m\n\u001b[1;32m      6\u001b[0m y \u001b[38;5;241m=\u001b[39m x\n\u001b[1;32m      7\u001b[0m \u001b[38;5;28;01mfor\u001b[39;00m layer \u001b[38;5;129;01min\u001b[39;00m \u001b[38;5;28mself\u001b[39m\u001b[38;5;241m.\u001b[39mlayers:\n\u001b[0;32m----> 8\u001b[0m     y \u001b[38;5;241m=\u001b[39m \u001b[43mlayer\u001b[49m\u001b[38;5;241;43m.\u001b[39;49m\u001b[43mforward\u001b[49m\u001b[43m(\u001b[49m\u001b[43my\u001b[49m\u001b[43m)\u001b[49m\n\u001b[1;32m      9\u001b[0m \u001b[38;5;28;01mreturn\u001b[39;00m y\n",
      "Cell \u001b[0;32mIn[48], line 20\u001b[0m, in \u001b[0;36mDense.forward\u001b[0;34m(self, x, interpret)\u001b[0m\n\u001b[1;32m     19\u001b[0m \u001b[38;5;28;01mdef\u001b[39;00m \u001b[38;5;21mforward\u001b[39m(\u001b[38;5;28mself\u001b[39m, x: np\u001b[38;5;241m.\u001b[39marray, interpret: \u001b[38;5;28mbool\u001b[39m\u001b[38;5;241m=\u001b[39m\u001b[38;5;28;01mFalse\u001b[39;00m):\n\u001b[0;32m---> 20\u001b[0m     y \u001b[38;5;241m=\u001b[39m \u001b[38;5;28mself\u001b[39m\u001b[38;5;241m.\u001b[39mactivation(\u001b[43mnp\u001b[49m\u001b[38;5;241;43m.\u001b[39;49m\u001b[43mmatmul\u001b[49m\u001b[43m(\u001b[49m\u001b[38;5;28;43mself\u001b[39;49m\u001b[38;5;241;43m.\u001b[39;49m\u001b[43mw\u001b[49m\u001b[43m,\u001b[49m\u001b[43m \u001b[49m\u001b[43mx\u001b[49m\u001b[43m)\u001b[49m\u001b[43m \u001b[49m\u001b[38;5;241;43m+\u001b[39;49m\u001b[43m \u001b[49m\u001b[38;5;28;43mself\u001b[39;49m\u001b[38;5;241;43m.\u001b[39;49m\u001b[43mb\u001b[49m)\n\u001b[1;32m     22\u001b[0m     \u001b[38;5;28;01mif\u001b[39;00m interpret: \n\u001b[1;32m     23\u001b[0m         \u001b[38;5;28;01mreturn\u001b[39;00m \u001b[38;5;28mself\u001b[39m\u001b[38;5;241m.\u001b[39minterpret(y)\n",
      "\u001b[0;31mValueError\u001b[0m: operands could not be broadcast together with shapes (10,12665) (10,) "
     ]
    }
   ],
   "source": [
    "nn.forward(x_train)"
   ]
  },
  {
   "cell_type": "code",
   "execution_count": null,
   "id": "a00991df-4a67-402c-af14-da7a650e48b1",
   "metadata": {},
   "outputs": [],
   "source": []
  }
 ],
 "metadata": {
  "kernelspec": {
   "display_name": "Python 3 (ipykernel)",
   "language": "python",
   "name": "python3"
  },
  "language_info": {
   "codemirror_mode": {
    "name": "ipython",
    "version": 3
   },
   "file_extension": ".py",
   "mimetype": "text/x-python",
   "name": "python",
   "nbconvert_exporter": "python",
   "pygments_lexer": "ipython3",
   "version": "3.10.6"
  }
 },
 "nbformat": 4,
 "nbformat_minor": 5
}
