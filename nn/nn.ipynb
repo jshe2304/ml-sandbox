{
 "cells": [
  {
   "cell_type": "code",
   "execution_count": 2,
   "id": "9b9af1f9-5cc2-4cf9-936d-1a55335b6cba",
   "metadata": {
    "tags": []
   },
   "outputs": [],
   "source": [
    "from typing import Callable\n",
    "import numpy as np"
   ]
  },
  {
   "cell_type": "code",
   "execution_count": 3,
   "id": "658e88e4-6ea8-4cee-83e6-599ebef0f69c",
   "metadata": {
    "tags": []
   },
   "outputs": [],
   "source": [
    "data = np.load('mnist.npz')"
   ]
  },
  {
   "cell_type": "code",
   "execution_count": 4,
   "id": "59573e4e-4c10-444d-b910-8458c7a33653",
   "metadata": {},
   "outputs": [
    {
     "name": "stdout",
     "output_type": "stream",
     "text": [
      "x: (60000, 28, 28)\n",
      "y: (60000,)\n"
     ]
    }
   ],
   "source": [
    "x = data['x_train']\n",
    "y = data['y_train']\n",
    "\n",
    "print(f'x: {x.shape}')\n",
    "print(f'y: {y.shape}')"
   ]
  },
  {
   "cell_type": "code",
   "execution_count": 5,
   "id": "14d32108-a307-4f9e-a62e-d47d3de8acec",
   "metadata": {
    "tags": []
   },
   "outputs": [
    {
     "name": "stdout",
     "output_type": "stream",
     "text": [
      "Reshaping x...\n",
      "x: (60000, 784)\n"
     ]
    }
   ],
   "source": [
    "print(f'Reshaping x...')\n",
    "\n",
    "n, w, h = x.shape\n",
    "\n",
    "x = x.reshape(n, w*h)\n",
    "\n",
    "print(f'x: {x.shape}')"
   ]
  },
  {
   "cell_type": "code",
   "execution_count": 6,
   "id": "076d0eb1-3e31-4943-a0eb-6352af985e51",
   "metadata": {
    "tags": []
   },
   "outputs": [],
   "source": [
    "def relu(v: np.array) -> np.array:\n",
    "    return np.maximum(0, v)"
   ]
  },
  {
   "cell_type": "code",
   "execution_count": 26,
   "id": "2dff5882-5f49-40cb-94d5-74701196a7d6",
   "metadata": {
    "tags": []
   },
   "outputs": [],
   "source": [
    "class DenseLayer:\n",
    "    self.w = np.array\n",
    "\n",
    "    def __init__(self, m: int, n: int, activation: Callable[[np.array], np.array]):\n",
    "        self.v = activation()"
   ]
  },
  {
   "cell_type": "code",
   "execution_count": null,
   "id": "dd380208-80f9-4e3f-a52c-c3d64e340e01",
   "metadata": {},
   "outputs": [],
   "source": []
  }
 ],
 "metadata": {
  "kernelspec": {
   "display_name": "Python 3 (ipykernel)",
   "language": "python",
   "name": "python3"
  },
  "language_info": {
   "codemirror_mode": {
    "name": "ipython",
    "version": 3
   },
   "file_extension": ".py",
   "mimetype": "text/x-python",
   "name": "python",
   "nbconvert_exporter": "python",
   "pygments_lexer": "ipython3",
   "version": "3.10.6"
  }
 },
 "nbformat": 4,
 "nbformat_minor": 5
}
